{
 "cells": [
  {
   "cell_type": "code",
   "execution_count": null,
   "id": "646c4e96",
   "metadata": {},
   "outputs": [],
   "source": [
    "!pip install climetlab climetlab-maelstrom-power-production scikit-learn matplotlib"
   ]
  },
  {
   "cell_type": "code",
   "execution_count": null,
   "id": "db1a9d62",
   "metadata": {},
   "outputs": [],
   "source": [
    "import climetlab as cml\n",
    "\n",
    "import utils"
   ]
  },
  {
   "cell_type": "markdown",
   "id": "0fb7bea0",
   "metadata": {},
   "source": [
    "## Load data"
   ]
  },
  {
   "cell_type": "code",
   "execution_count": null,
   "id": "d53c67f4",
   "metadata": {},
   "outputs": [],
   "source": [
    "constants_dataset = cml.load_dataset(\"maelstrom-constants-a-b\")\n",
    "production_dataset = cml.load_dataset(\"maelstrom-power-production\", wind_turbine_id=30)\n",
    "model_level_dataset = cml.load_dataset(\"maelstrom-weather-model-level\", date=\"2019-01-01\")\n",
    "surface_dataset = cml.load_dataset(\"maelstrom-weather-surface-level\", date=\"2019-01-01\")\n",
    "constants = constants_dataset.to_xarray()\n",
    "production = production_dataset.to_xarray()\n",
    "model_level_data = model_level_dataset.to_xarray()\n",
    "surface_data = surface_dataset.to_xarray()"
   ]
  },
  {
   "cell_type": "markdown",
   "id": "7aae0b53",
   "metadata": {},
   "source": [
    "## Feature engineering\n",
    "### Find the grid point closest to the coordinates of the wind turbine"
   ]
  },
  {
   "cell_type": "code",
   "execution_count": null,
   "id": "39ad5276",
   "metadata": {},
   "outputs": [],
   "source": [
    "closest_grid_point = utils.get_closest_grid_point_to_wind_turbine(\n",
    "    production_data=production,\n",
    "    data=model_level_data,\n",
    ")"
   ]
  },
  {
   "cell_type": "markdown",
   "id": "7844b19f",
   "metadata": {},
   "source": [
    "### Calculate the air density at the model level"
   ]
  },
  {
   "cell_type": "code",
   "execution_count": null,
   "id": "f6c05f83",
   "metadata": {},
   "outputs": [],
   "source": [
    "model_level = 133  # is roughly at the wind turbine's hub height (100 m)\n",
    "air_density = utils.calculate_air_density(\n",
    "    grid_point=closest_grid_point,\n",
    "    model_level=model_level,\n",
    "    model_level_data=model_level_data,\n",
    "    surface_data=surface_data,\n",
    "    constants=constants,\n",
    ")"
   ]
  },
  {
   "cell_type": "markdown",
   "id": "2b75accd",
   "metadata": {},
   "source": [
    "### Calculate the absolute wind speed at the model level and the wind direction"
   ]
  },
  {
   "cell_type": "code",
   "execution_count": null,
   "id": "f01f06b5",
   "metadata": {},
   "outputs": [],
   "source": [
    "absolute_wind_speed, wind_direction = utils.calculate_absolute_wind_speed_and_wind_direction(\n",
    "    grid_point=closest_grid_point,\n",
    "    model_level=model_level,\n",
    "    model_level_data=model_level_data,\n",
    ")"
   ]
  },
  {
   "cell_type": "markdown",
   "id": "a90db5db",
   "metadata": {},
   "source": [
    "### Additional features\n",
    "\n",
    "Passing the time of the day and year improves the model and, as a result, forecast quality.\n",
    "\n",
    "Examples:\n",
    "\n",
    "Time of day:\n",
    "\n",
    "- 2020-01-01T00:00:00 corresponds to 0.0\n",
    "- 2020-01-01T06:00:00 corresponds to 0.25\n",
    "- 2020-01-01T12:00:00 corresponds to 0.5\n",
    "- 2020-01-01T18:00:00 corresponds to 0.75\n",
    "- and so forth...\n",
    "\n",
    "Time of year:\n",
    "\n",
    "- 2020-01-01T00:00:00 corresponds to 0.0\n",
    "- 2020-07-02T00:00:00 corresponds to roughly 0.5\n",
    "- 2020-12-31T00:00:00 corresponds to 1.0\n",
    "- and so forth...\n"
   ]
  },
  {
   "cell_type": "code",
   "execution_count": null,
   "id": "1285dde8",
   "metadata": {},
   "outputs": [],
   "source": [
    "dates = utils.get_dates_from_time_coordinate(model_level_data)\n",
    "time_of_day, time_of_year = utils.get_time_of_day_and_year(dates)"
   ]
  },
  {
   "cell_type": "markdown",
   "id": "f3903c02",
   "metadata": {},
   "source": [
    "### Resampling of the production data\n",
    "Since the production data are available in 10-minute intervals, they need to be resampled to match the hourly model data. The production data may also contain negative values. These result e.g. when a wind turbine is moved due to lack of wind. Hence, we set them 0 to increase the model quality."
   ]
  },
  {
   "cell_type": "code",
   "execution_count": null,
   "id": "59ded516",
   "metadata": {},
   "outputs": [],
   "source": [
    "prod_resampled = utils.resample_and_clear_production_data_to_hourly_timeseries(\n",
    "    production, dates=dates\n",
    ")"
   ]
  },
  {
   "cell_type": "markdown",
   "id": "e103f9f2",
   "metadata": {},
   "source": [
    "## Train the model\n",
    "Input samples (features) are:\n",
    "\n",
    "- air density\n",
    "- absolute wind speed\n",
    "- wind direction\n",
    "- time of day\n",
    "- time of year\n",
    "\n",
    "Target values are the production data."
   ]
  },
  {
   "cell_type": "code",
   "execution_count": null,
   "id": "e68feb75",
   "metadata": {},
   "outputs": [],
   "source": [
    "model = utils.train_model(\n",
    "    air_density=air_density,\n",
    "    absolute_wind_speed=absolute_wind_speed,\n",
    "    wind_direction=wind_direction,\n",
    "    time_of_day=time_of_day,\n",
    "    time_of_year=time_of_year,\n",
    "    production=prod_resampled,\n",
    ")"
   ]
  },
  {
   "cell_type": "markdown",
   "id": "e8e3cf83",
   "metadata": {},
   "source": [
    "## Create a forecast\n",
    "### Get and convert the weather data"
   ]
  },
  {
   "cell_type": "code",
   "execution_count": null,
   "id": "c47a64f0",
   "metadata": {},
   "outputs": [],
   "source": [
    "model_level_dataset = cml.load_dataset(\"maelstrom-weather-model-level\", date=\"2019-01-02\")\n",
    "surface_dataset = cml.load_dataset(\"maelstrom-weather-surface-level\", date=\"2019-01-02\")\n",
    "model_level_data = model_level_dataset.to_xarray()\n",
    "surface_data = surface_dataset.to_xarray()"
   ]
  },
  {
   "cell_type": "markdown",
   "id": "a3dcdb26",
   "metadata": {},
   "source": [
    "### Calculate the necessary features\n",
    "The features used for the forecast have to be identical to those used for training the model."
   ]
  },
  {
   "cell_type": "code",
   "execution_count": null,
   "id": "2c9b3bf8",
   "metadata": {},
   "outputs": [],
   "source": [
    "air_density = utils.calculate_air_density(\n",
    "    grid_point=closest_grid_point,\n",
    "    model_level=model_level,\n",
    "    model_level_data=model_level_data,\n",
    "    surface_data=surface_data,\n",
    "    constants=constants,\n",
    ")\n",
    "\n",
    "absolute_wind_speed, wind_direction = utils.calculate_absolute_wind_speed_and_wind_direction(\n",
    "    grid_point=closest_grid_point,\n",
    "    model_level=model_level,\n",
    "    model_level_data=model_level_data,\n",
    ")\n",
    "\n",
    "dates = utils.get_dates_from_time_coordinate(model_level_data)\n",
    "time_of_day, time_of_year = utils.get_time_of_day_and_year(dates)"
   ]
  },
  {
   "cell_type": "markdown",
   "id": "5fc1f06e",
   "metadata": {},
   "source": [
    "### Predict the power production"
   ]
  },
  {
   "cell_type": "code",
   "execution_count": null,
   "id": "8c40a51b",
   "metadata": {},
   "outputs": [],
   "source": [
    "production_forecast = utils.predict_power_production(\n",
    "    model,\n",
    "    air_density=air_density,\n",
    "    absolute_wind_speed=absolute_wind_speed,\n",
    "    wind_direction=wind_direction,\n",
    "    time_of_day=time_of_day,\n",
    "    time_of_year=time_of_year,\n",
    ")"
   ]
  },
  {
   "cell_type": "markdown",
   "id": "97c14b20",
   "metadata": {},
   "source": [
    "## Evaluate the forecast quality\n",
    "### Get the real production data for the forecast time range"
   ]
  },
  {
   "cell_type": "code",
   "execution_count": null,
   "id": "1bb0ae5d",
   "metadata": {},
   "outputs": [],
   "source": [
    "production_real = utils.resample_and_clear_production_data_to_hourly_timeseries(\n",
    "    production, dates=dates\n",
    ")"
   ]
  },
  {
   "cell_type": "markdown",
   "id": "f4cf4c30",
   "metadata": {},
   "source": [
    "### Compare the forecast and the real production data\n",
    "#### Plot the forecasted and real power production"
   ]
  },
  {
   "cell_type": "code",
   "execution_count": null,
   "id": "0af1a61c",
   "metadata": {},
   "outputs": [],
   "source": [
    "utils.plot_forecast_and_real_production_data(\n",
    "    indexes=dates,\n",
    "    forecast=production_forecast,\n",
    "    real=production_real,\n",
    ")"
   ]
  },
  {
   "cell_type": "markdown",
   "id": "f664a2a9",
   "metadata": {},
   "source": [
    "#### Calculate the NMAE"
   ]
  },
  {
   "cell_type": "code",
   "execution_count": null,
   "id": "37004a01",
   "metadata": {},
   "outputs": [],
   "source": [
    "power_rating = utils.get_power_rating(production)\n",
    "nmae = utils.normalized_mean_absolute_error(\n",
    "    production_real, \n",
    "    production_forecast, \n",
    "    normalization=power_rating,\n",
    ")\n",
    "print(f\"NMAE: {nmae}\")"
   ]
  },
  {
   "cell_type": "code",
   "execution_count": null,
   "id": "00ab6bcd",
   "metadata": {},
   "outputs": [],
   "source": []
  },
  {
   "cell_type": "code",
   "execution_count": null,
   "id": "6310d7b2",
   "metadata": {},
   "outputs": [],
   "source": []
  }
 ],
 "metadata": {
  "kernelspec": {
   "display_name": "Python 3 (ipykernel)",
   "language": "python",
   "name": "python3"
  },
  "language_info": {
   "codemirror_mode": {
    "name": "ipython",
    "version": 3
   },
   "file_extension": ".py",
   "mimetype": "text/x-python",
   "name": "python",
   "nbconvert_exporter": "python",
   "pygments_lexer": "ipython3",
   "version": "3.9.9"
  }
 },
 "nbformat": 4,
 "nbformat_minor": 5
}
